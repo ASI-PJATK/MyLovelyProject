{
 "cells": [
  {
   "cell_type": "code",
   "execution_count": null,
   "id": "04ddcf8f-087a-4a36-887f-421ab8030e23",
   "metadata": {},
   "outputs": [],
   "source": [
    "from pathlib import Path"
   ]
  },
  {
   "cell_type": "code",
   "execution_count": null,
   "id": "1fa7cef6-c37e-4144-8376-1ae0663cbd35",
   "metadata": {},
   "outputs": [],
   "source": [
    "def absolute_path(p: Path) -> Path:\n",
    "    return p.absolute()"
   ]
  },
  {
   "cell_type": "code",
   "execution_count": null,
   "id": "9545bbbb-8736-42ca-80c8-b4dc89fab889",
   "metadata": {},
   "outputs": [],
   "source": [
    "absolute_path(Path())"
   ]
  },
  {
   "cell_type": "code",
   "execution_count": null,
   "id": "37161f42-f9ea-4cb6-8fbb-1c19c76c41a5",
   "metadata": {},
   "outputs": [],
   "source": [
    "!pip install pandas"
   ]
  },
  {
   "cell_type": "code",
   "execution_count": null,
   "id": "803da1df-c86f-403f-a148-faef59a4084b",
   "metadata": {},
   "outputs": [],
   "source": [
    "import pandas as pd\n",
    "pd.read_csv(\"..\\..\\data\\housingdata.csv\")"
   ]
  },
  {
   "cell_type": "code",
   "execution_count": null,
   "id": "d6a84ca7-5fad-4925-a7c5-989c5442fbf5",
   "metadata": {},
   "outputs": [],
   "source": []
  }
 ],
 "metadata": {
  "kernelspec": {
   "display_name": "Python 3 (ipykernel)",
   "language": "python",
   "name": "python3"
  },
  "language_info": {
   "codemirror_mode": {
    "name": "ipython",
    "version": 3
   },
   "file_extension": ".py",
   "mimetype": "text/x-python",
   "name": "python",
   "nbconvert_exporter": "python",
   "pygments_lexer": "ipython3",
   "version": "3.11.4"
  }
 },
 "nbformat": 4,
 "nbformat_minor": 5
}
