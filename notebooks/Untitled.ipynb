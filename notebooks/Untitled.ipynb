{
 "cells": [
  {
   "cell_type": "code",
   "execution_count": null,
   "id": "5fe2e564-4deb-4751-8df0-d7698ecc8ea1",
   "metadata": {},
   "outputs": [],
   "source": [
    "%pip install \"kedro-datasets[pandas]\""
   ]
  },
  {
   "cell_type": "code",
   "execution_count": null,
   "id": "03c95d3c-b074-4498-a9ee-8777712a3154",
   "metadata": {},
   "outputs": [],
   "source": []
  }
 ],
 "metadata": {
  "kernelspec": {
   "display_name": "Python 3 (ipykernel)",
   "language": "python",
   "name": "python3"
  },
  "language_info": {
   "codemirror_mode": {
    "name": "ipython",
    "version": 3
   },
   "file_extension": ".py",
   "mimetype": "text/x-python",
   "name": "python",
   "nbconvert_exporter": "python",
   "pygments_lexer": "ipython3",
   "version": "3.10.13"
  }
 },
 "nbformat": 4,
 "nbformat_minor": 5
}
